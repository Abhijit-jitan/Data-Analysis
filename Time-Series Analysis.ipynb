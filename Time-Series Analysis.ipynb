{
 "cells": [
  {
   "cell_type": "markdown",
   "id": "2e7bf7a7",
   "metadata": {
    "code_folding": []
   },
   "source": [
    "# Python Modules for Handling Date & Time\n",
    "\n",
    "\n",
    " * **datetime** \n",
    "    * **date**\n",
    "    \n",
    "    * **time**\n",
    "    \n",
    "    * **datetime**  \n",
    "    \n",
    "    * **timedelta**\n",
    "    \n",
    "    * **tzinfo** \n",
    "    \n",
    "    * **timezone**  \n",
    "    \n",
    "    * **strftime & strptime**\n",
    "\n",
    "\n",
    "\n",
    "https://docs.python.org/3/library/datetime.html"
   ]
  },
  {
   "cell_type": "markdown",
   "id": "45b2467c",
   "metadata": {},
   "source": [
    "### datetime.date():\n",
    "  * Represents **date(year,month,day)**\n",
    "  * **Attribute:** ***year*** , ***month*** , ***day***\n",
    " "
   ]
  },
  {
   "cell_type": "code",
   "execution_count": 36,
   "id": "97ac0fd7",
   "metadata": {
    "ExecuteTime": {
     "end_time": "2021-07-21T06:56:26.802343Z",
     "start_time": "2021-07-21T06:56:26.771040Z"
    }
   },
   "outputs": [
    {
     "ename": "SyntaxError",
     "evalue": "invalid syntax (<ipython-input-36-325f08555655>, line 1)",
     "output_type": "error",
     "traceback": [
      "\u001b[1;36m  File \u001b[1;32m\"<ipython-input-36-325f08555655>\"\u001b[1;36m, line \u001b[1;32m1\u001b[0m\n\u001b[1;33m    from datetime as dt\u001b[0m\n\u001b[1;37m                  ^\u001b[0m\n\u001b[1;31mSyntaxError\u001b[0m\u001b[1;31m:\u001b[0m invalid syntax\n"
     ]
    }
   ],
   "source": [
    "from datetime as dt\n",
    "\n",
    "                 ---------- Creating date ----------\n",
    "## Using date(): \n",
    "var=dt.date(2019,8,11)           #@ date(yyyy,mm,dd)\n",
    "\n",
    "## Using date.today() : Return 'current local' date\n",
    "var=dt.date.today()              # Returns datetime.date(yyyy,mm,dd)\n",
    "\n",
    "\n",
    "## Using date.fromisocalendar\n",
    "\n",
    "\n",
    "## Using datetime.fromtimestamp() : date-time from 'timestamp'  \n",
    "var=dt.datetime.fromtimestamp(1626862019.421817)   # datetime.datetime(yr,month,day)\n",
    "\n",
    "## Using date.fromordinal(ordinal): Converts 'proleptic-Gregorian' ordinal to date    \n",
    "var=dt.date.fromordinal(737799)   # Returns datetime(yyyy,mm,dd)\n",
    "\n",
    "## Using date.fromisoformat(): Return date as 'date_string'  \n",
    "var=dt.date.fromisoformat('2019-12-04')  # Returns datetime(yyyy,mm,dd)\n",
    "\n",
    "\n",
    "\n",
    "                    ---------- Operator ----------\n",
    "+, -   # date with date|timedelta (ex: date1 + timedelta)\n",
    "< , >  # comparision (ex: date1 < date2) \n",
    "\n",
    "\n",
    "                   ---------- methods | functions ----------\n",
    "var=dt.date(2019,8,11)        #@ date(yyyy,mm,dd)\n",
    "\n",
    "var.day,var.month,var.year  # day , month , year\n",
    "var.min,var.max             # min date available , max date available\n",
    "var.weekday()      # Day of week (Monday:0 Sunday:6)\n",
    "var.isoweekday()   # ISO Day of week (Monday:1 Sunday:7)\n",
    "var.isocalendar()  # ISO  (year,week number,weekday)\n",
    "var.isoformat()    # ISO 'YYYY-MM-DD'\n",
    "var.ctime()        # Get str-format (ex:Sat Jan  9 21:38:29 2021)\n",
    "var.resolution     # smallest possible diff. bet non-equal timedelta() (timedelta(day=1))\n",
    "var.toordinal()    # Get 'proleptic-Gregorian' ordinal of date\n",
    "var.timetuple()    # Get time.struct_time(tm_year,tm_mon,tm_mday,tm_hour,tm_min,tm_sec,tm_wday,tm_yday,tm_isdst) \n",
    "var.replace(year=2050,month=1,day=4)    # Replaces Current date\n"
   ]
  },
  {
   "cell_type": "code",
   "execution_count": 106,
   "id": "11e9706a",
   "metadata": {
    "ExecuteTime": {
     "end_time": "2021-07-21T11:32:48.794140Z",
     "start_time": "2021-07-21T11:32:48.777792Z"
    }
   },
   "outputs": [
    {
     "data": {
      "text/plain": [
       "datetime.date(2021, 1, 9)"
      ]
     },
     "execution_count": 106,
     "metadata": {},
     "output_type": "execute_result"
    }
   ],
   "source": [
    "#var=dt.date(2019,8,11)           #@ date(yyyy,mm,dd)\n",
    "# 'strftime', fromisocalender , fromtimestamp\n",
    "var=dt.date.fromordinal(737799)   # Returns datetime(yyyy,mm,dd)\n",
    "var"
   ]
  },
  {
   "cell_type": "markdown",
   "id": "d0a31dd5",
   "metadata": {
    "ExecuteTime": {
     "end_time": "2021-07-21T06:59:27.918905Z",
     "start_time": "2021-07-21T06:59:27.891947Z"
    }
   },
   "source": [
    "### datetime.time():\n",
    " * Idealized ***time(hour,minute,second,microsecond,tzinfo)***\n",
    " * **Attributes:** ***hour , minute , second , microsecond , tzinfo***\n",
    " * **Range:**\n",
    "    * 0 <= hour < 24,\n",
    "    * 0 <= minute < 60,\n",
    "    * 0 <= second < 60,\n",
    "    * 0 <= microsecond < 1000000,\n",
    "    * fold in [0, 1]       "
   ]
  },
  {
   "cell_type": "code",
   "execution_count": null,
   "id": "4b572a7f",
   "metadata": {},
   "outputs": [],
   "source": [
    "import datetime as dt\n",
    "\n",
    "                     ---------- Creating time ----------\n",
    "## Using time(): @ time(hour=0,minute=0,second=0,microsecond=0,tzinfo=None,fold=0) \n",
    "var=dt.time(13,22,12,223321)    \n",
    "\n",
    "## Using time.fromisoformat(): 'HH:MM:SS.mmmuuu[+HH:MM]'\n",
    "var=dt.time.fromisoformat('13:22:12.223321') # gets datetime.time(HH,MM,SS,m-sec)\n",
    "\n",
    "\n",
    "                    ---------- methods|functions ----------\n",
    "var.hour,var.minute,var.second,var.microsecond # Hr,Min,sec,m-sec\n",
    "var.max,var.min      # Max & Min time Available\n",
    "var.resolution       # smallest possible diff. bet non-equal timedelta() ( timedelta(microseconds=1) )\n",
    "var.isoformat()      # ISO 'HH:MM:SS.mmmuuu[+HH:MM]'\n",
    "var.replace(hour=3)  # Replace Current time:  hour,minute,second,microsecond,tzinfo,fold\n",
    "\n",
    "# timezone info -  None:If Timezone info. not provided\n",
    "var.tzinfo         # Get time-zone info. (None: if tz not passed)\n",
    "var.tzname()       # Get time-zone Name(offset)\n",
    "var.utcoffset()    # Gets self.tzinfo.utcoffset()  (diff. betn local time & UTC)\n",
    "var.dst()          # Gets self.tzinfo.utcoffset(self)\n"
   ]
  },
  {
   "cell_type": "code",
   "execution_count": 65,
   "id": "ee577dfa",
   "metadata": {
    "ExecuteTime": {
     "end_time": "2021-07-21T08:18:44.475308Z",
     "start_time": "2021-07-21T08:18:44.447856Z"
    }
   },
   "outputs": [
    {
     "ename": "TypeError",
     "evalue": "'int' object is not callable",
     "output_type": "error",
     "traceback": [
      "\u001b[1;31m---------------------------------------------------------------------------\u001b[0m",
      "\u001b[1;31mTypeError\u001b[0m                                 Traceback (most recent call last)",
      "\u001b[1;32m<ipython-input-65-61ea07ca19e0>\u001b[0m in \u001b[0;36m<module>\u001b[1;34m\u001b[0m\n\u001b[0;32m      1\u001b[0m \u001b[1;32mimport\u001b[0m \u001b[0mdatetime\u001b[0m \u001b[1;32mas\u001b[0m \u001b[0mdt\u001b[0m\u001b[1;33m\u001b[0m\u001b[1;33m\u001b[0m\u001b[0m\n\u001b[0;32m      2\u001b[0m \u001b[0mvar\u001b[0m\u001b[1;33m=\u001b[0m\u001b[0mdt\u001b[0m\u001b[1;33m.\u001b[0m\u001b[0mtime\u001b[0m\u001b[1;33m(\u001b[0m\u001b[1;36m13\u001b[0m\u001b[1;33m,\u001b[0m\u001b[1;36m22\u001b[0m\u001b[1;33m,\u001b[0m\u001b[1;36m12\u001b[0m\u001b[1;33m,\u001b[0m\u001b[1;36m223321\u001b[0m\u001b[1;33m)\u001b[0m\u001b[1;33m\u001b[0m\u001b[1;33m\u001b[0m\u001b[0m\n\u001b[1;32m----> 3\u001b[1;33m \u001b[0mvar\u001b[0m\u001b[1;33m.\u001b[0m\u001b[0mfold\u001b[0m\u001b[1;33m(\u001b[0m\u001b[1;33m)\u001b[0m\u001b[1;33m\u001b[0m\u001b[1;33m\u001b[0m\u001b[0m\n\u001b[0m\u001b[0;32m      4\u001b[0m \u001b[1;31m#'fold','strftime'\u001b[0m\u001b[1;33m\u001b[0m\u001b[1;33m\u001b[0m\u001b[1;33m\u001b[0m\u001b[0m\n",
      "\u001b[1;31mTypeError\u001b[0m: 'int' object is not callable"
     ]
    }
   ],
   "source": [
    "import datetime as dt\n",
    "var=dt.time(13,22,12,223321)    \n",
    "\n",
    "#'fold','strftime' "
   ]
  },
  {
   "cell_type": "markdown",
   "id": "77b61544",
   "metadata": {
    "ExecuteTime": {
     "end_time": "2021-07-21T08:21:43.281751Z",
     "start_time": "2021-07-21T08:21:43.263793Z"
    }
   },
   "source": [
    "### datetime.datetime() : \n",
    " * Combination of  **date(year,month,day)** & **time(hr,min,sec,msec,tzinfo.)** \n",
    " * **Attributes:** ***year , month , day , hour , minute , second , microsecond , tzinfo.***\n",
    " * **Range:**\n",
    "    * MINYEAR <= year <= MAXYEAR,\n",
    "    * 1 <= month <= 12,\n",
    "    * 1 <= day <= number of days in the given month and year,\n",
    "    * 0 <= hour < 24,\n",
    "    * 0 <= minute < 60,\n",
    "    * 0 <= second < 60,\n",
    "    * 0 <= microsecond < 1000000,\n",
    "    * fold in [0, 1]."
   ]
  },
  {
   "cell_type": "code",
   "execution_count": 42,
   "id": "6abdcc16",
   "metadata": {
    "ExecuteTime": {
     "end_time": "2021-07-21T07:40:06.035407Z",
     "start_time": "2021-07-21T07:40:06.009426Z"
    }
   },
   "outputs": [
    {
     "data": {
      "text/plain": [
       "datetime.time(13, 22, 12, 223321)"
      ]
     },
     "execution_count": 42,
     "metadata": {},
     "output_type": "execute_result"
    }
   ],
   "source": [
    "import datetime as dt\n",
    "\n",
    "                       ---------- Creating datetime ----------\n",
    "## Using datetime():  @ datetime(year,month,day,hour,minute,second,microsecond,tzinfo=None,fold)\n",
    "var=dt(2021,1,5,8,14,10,2200,tzinfo=None) \n",
    "\n",
    "## Using datetime.today() : Current Date & Time (Without Time Zone)\n",
    "var=dt.today()              # Returns  datetime.datetime(yyyy,mm,dd,HH,MM,SS,M-sec)                  \n",
    "\n",
    "## Using datetime.now() : Current Date & Time (Without Time Zone)\n",
    "var=dt.now()                # Returns  datetime.datetime(yyyy,mm,dd,HH,MM,SS,M-sec) \n",
    "\n",
    "## Using datetime.utcnow() : Current Universal Time Coordinated(UTC) Time & Date\n",
    "var=dt.utcnow()             # Returns  datetime.datetime(yyyy,mm,dd,HH,MM,SS,M-sec) \n",
    "\n",
    "## Using datetime.fromtimestamp() : date-time from 'timestamp'  \n",
    "var=dt.datetime.fromtimestamp(1626862019.421817)   # datetime.datetime(yyyy,mm,dd,HH,MM,SS,M-sec)\n",
    "\n",
    "## Using From fromordinal() : Date-time from 'ordinal'\n",
    "var=dt.datetime.fromordinal(737992)   # datetime.datetime(yyyy,mm,dd,Hr=0,min=0)\n",
    "\n",
    "## Using From fromisocalendar() : Date-time from 'isocalendar'\n",
    "var=dt.datetime.fromisocalendar()    # datetime.datetime(yyyy,mm,dd,Hr=0,min=0)\n",
    "\n",
    "## Using From fromisoformat() : Date-time from 'isoformat' \n",
    "var=dt.datetime.fromisoformat('2021-07-21T12:35:41.056389')   # datetime.datetime(yy,mm,dd,HH,MM,SS,M-sec)\n",
    "\n",
    "\n",
    "                         ---------- Operator ----------\n",
    "+ , - , / , divmod(t1,t2) , % , //  # Timedelta with Timedelta (e.x: t1+t2)\n",
    "* , / , //          # Timedelta with scalar(int|float)\n",
    "== , != , > , < \n",
    "    \n",
    "+ t1                  # Returns Same object\n",
    "- t1                  # Returns -(Same object)\n",
    "abs(t1)               # Return +t or -t (+t: if t.days>=0 & -t: if t.days<0) \n",
    "str(t1)               # Returns str form (D days,H:MM:SS.UUUUUU)  \n",
    "repr(t1)              # Returns str representation\n",
    "\n",
    "\n",
    "                        ---------- method|function ----------\n",
    "# date\n",
    "var.date()                  # date(yyyy-mm-dd)\n",
    "var.year, .month, .day      # Year(yyyy) , month(mm) , day(dd)\n",
    "var.weekday()               # Day of week (Monday:0 Sunday:6)\n",
    "var.isoweekday()            # ISO Day of week (Monday:1 Sunday:7)\n",
    "\n",
    "# time\n",
    "var.time()                  # time (hr:min:sec.micro-sec)\n",
    "var.hour, .minute, .second, .microsecond  # Hour,Minute,second,msec\n",
    "var.timetz()         # Returns datetime.time(HH,MM,SS,msec,fold,tzinfo)\n",
    "\n",
    "# timezone\n",
    "var.tzinfo          # Get time-zone info. (None: if tz not passed)\n",
    "var.tzname()        # Get time-zone Name(offset)\n",
    "var.utcoffset()     # Gets self.tzinfo.utcoffset()  (diff. betn local time & UTC)\n",
    "var.dst()           # Gets self.tzinfo.utcoffset(self)\n",
    "var.utc             # Gets self.tzinfo.utcoffset(self)\n",
    "\n",
    "## Common Functions\n",
    "var.resolution      # smallest possible diff. betn non-equal timedelta  (timedelta(microseconds=1) \n",
    "var.toordinal()     # Return 'proleptic-Gregorian' ordinal of date   ex: 737992\n",
    "var.timestamp()     # POSIX timestamp(as float)   ex: 1626862019.421817\n",
    "var.timetuple()     # Return : time.struct_time(tm_year,tm_mon,tm_mday,tm_hour,tm_min,tm_sec,tm_wday,tm_yday,tm_isdst) \n",
    "var.utctimetuple()  # Returns UTC time tuple:  time.struct_time(tm_year,tm_mon,tm_mday,tm_hour,tm_min,tm_sec,tm_wday,tm_yday,tm_isdst) \n",
    "var.max,var.min     # Gets Max,Min date-time available\n",
    "var.replace(hour=10,second=10) # Replaces Current date-time:  year,month,day,hour,minute,second,microsecond\n",
    "\n",
    "## Formating \n",
    "var.isocalendar()   # ISO  (year,week number,weekday)\n",
    "var.isoformat()     # ISO YYYY-MM-DD THH:MM:SS.mmmuuu[+HH:MM]\n",
    "var.ctime()         # Returns str format (ex:Sat Jan  9 21:38:29 2021)\n"
   ]
  },
  {
   "cell_type": "code",
   "execution_count": 122,
   "id": "48149f7e",
   "metadata": {
    "ExecuteTime": {
     "end_time": "2021-07-21T15:48:02.572053Z",
     "start_time": "2021-07-21T15:48:02.545085Z"
    }
   },
   "outputs": [
    {
     "data": {
      "text/plain": [
       "datetime.time(16, 48, 2, 549076)"
      ]
     },
     "execution_count": 122,
     "metadata": {},
     "output_type": "execute_result"
    }
   ],
   "source": [
    "import datetime as dt\n",
    "var=dt.datetime.now()\n",
    "\n",
    "astimezone','combine','fold',\n",
    "'','strftime','strptime','utcfromtimestamp\n",
    "## Using From fromisocalendar() : Date-time from 'isocalendar'\n",
    "var=dt.datetime.fromisocalendar()    # datetime.datetime(yr,month,day,Hr=0,min=0)\n"
   ]
  },
  {
   "cell_type": "markdown",
   "id": "c2d61184",
   "metadata": {},
   "source": [
    "### timedelta() :\n",
    " * Duration between ***date-date*** , ***time-time*** , ***datetime-datetime*** objects\n",
    " "
   ]
  },
  {
   "cell_type": "code",
   "execution_count": 124,
   "id": "ec1d1f0b",
   "metadata": {
    "ExecuteTime": {
     "end_time": "2021-07-21T16:09:04.441679Z",
     "start_time": "2021-07-21T16:09:04.409765Z"
    }
   },
   "outputs": [
    {
     "ename": "IndentationError",
     "evalue": "unexpected indent (<ipython-input-124-54b3c4028482>, line 5)",
     "output_type": "error",
     "traceback": [
      "\u001b[1;36m  File \u001b[1;32m\"<ipython-input-124-54b3c4028482>\"\u001b[1;36m, line \u001b[1;32m5\u001b[0m\n\u001b[1;33m    ---------- Creating timedelta() ----------\u001b[0m\n\u001b[1;37m    ^\u001b[0m\n\u001b[1;31mIndentationError\u001b[0m\u001b[1;31m:\u001b[0m unexpected indent\n"
     ]
    }
   ],
   "source": [
    "import datetime as dt\n",
    "\n",
    "                  ---------- Creating timedelta() ----------\n",
    "## Using timedelta() :  @ timedelta(days=0,seconds=0,microseconds=0,milliseconds=0,minutes=0,hours=0,weeks=0)\n",
    "var=dt.timedelta(1999,12,12) \n",
    "\n",
    "\n",
    "                        ---------- Duration ----------\n",
    "t1=timedelta(42)\n",
    "t2=timedelta(22)\n",
    "duration=t1-t2    \n",
    "\n",
    "                       ---------- Operator ----------\n",
    "+ , - , / , divmod(t1,t2) , % , //  # Timedelta with Timedelta (e.x: t1+t2)\n",
    "* , / , //          # Timedelta with scalar(int|float)\n",
    "== , != , > , < \n",
    "    \n",
    "+ t1                  # Returns Same object\n",
    "- t1                  # Returns -(Same object)\n",
    "abs(t1)               # Return +t or -t (+t: if t.days>=0 & -t: if t.days<0) \n",
    "str(t1)               # Returns str form (D days,H:MM:SS.UUUUUU)  \n",
    "repr(t1)              # Returns str representation\n",
    "\n",
    "\n",
    "                        ---------- attribute ----------\n",
    "duration.days                     # total days\n",
    "duration.microseconds             # total microseconds\n",
    "duration.total_seconds()          # total duration in seconds\n",
    "duration.seconds()                # total seconds\n",
    "duration.min()\n",
    "duration.max()\n",
    "duration.resolution()"
   ]
  },
  {
   "cell_type": "markdown",
   "id": "b4aa2744",
   "metadata": {
    "ExecuteTime": {
     "end_time": "2021-07-21T16:11:40.395817Z",
     "start_time": "2021-07-21T16:11:40.386842Z"
    }
   },
   "source": [
    "### timezone():  \n",
    " * Implement \"tzinfo\" abstract base class as fixed offset from UTC\n",
    " \n",
    "### tzinfo() : \n",
    " * Time-Zone information objects\n"
   ]
  },
  {
   "cell_type": "code",
   "execution_count": 126,
   "id": "fb64ae3e",
   "metadata": {
    "ExecuteTime": {
     "end_time": "2021-07-21T16:09:05.009678Z",
     "start_time": "2021-07-21T16:09:04.968270Z"
    }
   },
   "outputs": [
    {
     "ename": "SyntaxError",
     "evalue": "unmatched ')' (<ipython-input-126-50ed52d6b256>, line 5)",
     "output_type": "error",
     "traceback": [
      "\u001b[1;36m  File \u001b[1;32m\"<ipython-input-126-50ed52d6b256>\"\u001b[1;36m, line \u001b[1;32m5\u001b[0m\n\u001b[1;33m    A) datetime with astimezone :\u001b[0m\n\u001b[1;37m     ^\u001b[0m\n\u001b[1;31mSyntaxError\u001b[0m\u001b[1;31m:\u001b[0m unmatched ')'\n"
     ]
    }
   ],
   "source": [
    "import pytz\n",
    "import datetime\n",
    "\n",
    "                    ---------- Creating Time zone ----------\n",
    "## datetime with astimezone : \n",
    "dt=datetime.datetime(2016,7,27,12,30,45,tzinfo=pytz.UTC)\n",
    "t_zone=dt.astimezone(pytz.timezone(\"Asia/Dubai\"))     # seting specific time-zone\n",
    "\n",
    "## datetime.now with astimezone :\n",
    "dt=datetime.datetime.now(tz=pytz.UTC)\n",
    "t_zone=t.astimezone(pytz.timezone(\"Asia/Calcutta\"))  # seting specific time-zone\n",
    "\n",
    "## datetime.utcnow with astimezone :\n",
    "dt=datetime.datetime.utcnow().replace(tzinfo=pytz.UTC)\n",
    "t_zone=d.astimezone(pytz.timezone(\"Asia/Dhaka\"))  # seting specific time-zone\n",
    "\n",
    "## datetime.time with astimezonet:  \n",
    "from datetime import datetime as dt\n",
    "ti=dt.time()\n",
    "t_zone=ti.astimezone(pytz.timezone(\"Asia/Chungking\"))  # seting specific time-zone\n",
    "\n",
    "## time.now with astimezone :\n",
    "dt=datetime.time.now(tz=pytz.UTC)\n",
    "t_zone=ti.astimezone(pytz.timezone(\"Asia/Chungking\"))  # seting specific time-zone\n",
    "\n",
    "\n",
    "---------- List out all Time-zone Strings  ----------\n",
    "for tz in pytz.all_timezones:\n",
    "    print(tz)\n",
    "\n",
    "    \n",
    "           ---------- Method|functions ----------"
   ]
  },
  {
   "cell_type": "code",
   "execution_count": 128,
   "id": "095dc4cd",
   "metadata": {
    "ExecuteTime": {
     "end_time": "2021-07-21T16:25:34.926544Z",
     "start_time": "2021-07-21T16:25:34.897579Z"
    }
   },
   "outputs": [
    {
     "ename": "NameError",
     "evalue": "name 'pytz' is not defined",
     "output_type": "error",
     "traceback": [
      "\u001b[1;31m---------------------------------------------------------------------------\u001b[0m",
      "\u001b[1;31mNameError\u001b[0m                                 Traceback (most recent call last)",
      "\u001b[1;32m<ipython-input-128-f87a9119003e>\u001b[0m in \u001b[0;36m<module>\u001b[1;34m\u001b[0m\n\u001b[0;32m      1\u001b[0m \u001b[1;31m## datetime with astimezone :\u001b[0m\u001b[1;33m\u001b[0m\u001b[1;33m\u001b[0m\u001b[1;33m\u001b[0m\u001b[0m\n\u001b[1;32m----> 2\u001b[1;33m \u001b[0mvar\u001b[0m\u001b[1;33m=\u001b[0m\u001b[0mdatetime\u001b[0m\u001b[1;33m.\u001b[0m\u001b[0mdatetime\u001b[0m\u001b[1;33m(\u001b[0m\u001b[1;36m2016\u001b[0m\u001b[1;33m,\u001b[0m\u001b[1;36m7\u001b[0m\u001b[1;33m,\u001b[0m\u001b[1;36m27\u001b[0m\u001b[1;33m,\u001b[0m\u001b[1;36m12\u001b[0m\u001b[1;33m,\u001b[0m\u001b[1;36m30\u001b[0m\u001b[1;33m,\u001b[0m\u001b[1;36m45\u001b[0m\u001b[1;33m,\u001b[0m\u001b[0mtzinfo\u001b[0m\u001b[1;33m=\u001b[0m\u001b[0mpytz\u001b[0m\u001b[1;33m.\u001b[0m\u001b[0mUTC\u001b[0m\u001b[1;33m)\u001b[0m\u001b[1;33m\u001b[0m\u001b[1;33m\u001b[0m\u001b[0m\n\u001b[0m\u001b[0;32m      3\u001b[0m \u001b[0mt_zone\u001b[0m\u001b[1;33m=\u001b[0m\u001b[0mdt\u001b[0m\u001b[1;33m.\u001b[0m\u001b[0mastimezone\u001b[0m\u001b[1;33m(\u001b[0m\u001b[0mpytz\u001b[0m\u001b[1;33m.\u001b[0m\u001b[0mtimezone\u001b[0m\u001b[1;33m(\u001b[0m\u001b[1;34m\"Asia/Dubai\"\u001b[0m\u001b[1;33m)\u001b[0m\u001b[1;33m)\u001b[0m         \u001b[1;31m# seting specific time-zone\u001b[0m\u001b[1;33m\u001b[0m\u001b[1;33m\u001b[0m\u001b[0m\n",
      "\u001b[1;31mNameError\u001b[0m: name 'pytz' is not defined"
     ]
    }
   ],
   "source": [
    "## datetime with astimezone : \n",
    "var=datetime.datetime(2016,7,27,12,30,45,tzinfo=pytz.UTC)\n",
    "t_zone=dt.astimezone(pytz.timezone(\"Asia/Dubai\"))         # seting specific time-zone\n"
   ]
  },
  {
   "cell_type": "code",
   "execution_count": null,
   "id": "b0534bc5",
   "metadata": {},
   "outputs": [],
   "source": []
  },
  {
   "cell_type": "code",
   "execution_count": null,
   "id": "791c6d50",
   "metadata": {},
   "outputs": [],
   "source": [
    "** Date **\n",
    "var.date()                 # date(yyyy-mm-dd)\n",
    "var.year                   # Year(yyyy)\n",
    "var.month                  # month(mm)\n",
    "var.day                    # day(dd)\n",
    "var.weekday()              # Day of week (Monday:0 Sunday:6)\n",
    "var.isoweekday()           # ISO Day of week (Monday:1 Sunday:7)\n",
    "\n",
    "** Time **\n",
    "var.time()                 # time (hr:min:sec.micro-sec)\n",
    "var.hour                   # Hour\n",
    "var.minute                 # Minute\n",
    "var.second                 # second\n",
    "var.microsecond            # micro-second\n",
    "\n",
    "** Time-Zone **\n",
    "t_zone.tzinfo              # Get time-zone info. (None: if tz not passed)\n",
    "t_zone.tzname()            # Get time-zone Name(offset)\n",
    "t_zone.utcoffset()  # Gets self.tzinfo.utcoffset()  (diff. betn local time & UTC)\n",
    "t_zone.dst()        # Gets self.tzinfo.utcoffset(self)\n",
    "t_zone.utc       # Gets self.tzinfo.utcoffset(self)\n",
    "\n",
    "## Common Functions\n",
    "var.resolution      # smallest possible diff. bet non-equal timedelta() ( timedelta(microseconds=1) )\n",
    "var.toordinal()     # Return 'proleptic-Gregorian' ordinal of date\n",
    "var.timestamp()     # POSIX timestamp(as float)\n",
    "var.timetuple()     # Return time.struct_time(tm_year,tm_mon,tm_mday,tm_hour,tm_min,tm_sec,tm_wday,tm_yday,tm_isdst) \n",
    "var.utctimetuple()  # UTC time tuple\n",
    "var.max             # Max date-time \n",
    "var.min             # Min date-time\n",
    "\n",
    "## Formating \n",
    "var.isocalendar()   # ISO  (year,week number,weekday)\n",
    "var.isoformat()     # ISO YYYY-MM-DD THH:MM:SS.mmmuuu[+HH:MM]\n",
    "var.ctime()         # Returns str format (ex:Sat Jan  9 21:38:29 2021)\n"
   ]
  },
  {
   "cell_type": "code",
   "execution_count": null,
   "id": "3cde4317",
   "metadata": {},
   "outputs": [],
   "source": [
    "## Function:"
   ]
  },
  {
   "cell_type": "code",
   "execution_count": null,
   "id": "c3f9ee5b",
   "metadata": {},
   "outputs": [],
   "source": [
    "@ replace(year,month,day,hour,minute,second,microsecond,tzinfo=None,fold) # Return Replaced value\n",
    ">>> datetime.replace(year=2030,month=11,day=21,hour=1)\n",
    "\n",
    "@ combine(date,time,tzinfo)        # combine date(),time(),tzinfo()\n",
    ">>> datetime.combine(d.date(),d.time())\n"
   ]
  },
  {
   "cell_type": "code",
   "execution_count": null,
   "id": "8ff4237b",
   "metadata": {},
   "outputs": [],
   "source": [
    "@ fromtimestamp(timestamp): Gets 'local date' corresponding to 'POSIX timestamp'\n",
    ">>> date.fromtimestamp(d.timestamp())   # timestamp=d.timestamp() (where d=datetime.now() )\n",
    "\n",
    "@ fromordinal(ordinal): Gets 'proleptic-Gregorian' ordinal format to date    \n",
    ">>> datetime.fromordinal(737799)   # ordinal=737799( 'datetime(2021,1,9,0,0)' )\n",
    "\n",
    "@ fromisoformat(): Return date as 'date_string'  \n",
    ">>> date.fromisoformat('2019-12-04')   # YYYY-MM-DD\n",
    "\n",
    "@ fromisocalendar(): Gets date as ISO calendar date \n",
    ">>> date.fromisoformat()    # year,week,day\n",
    "\n",
    "@ utcfromtimestamp(): Gets UTC datetime as to POSIX timestamp & tzinfo=None\n",
    ">>> datetime.utcfromtimestamp(timestamp)"
   ]
  },
  {
   "cell_type": "code",
   "execution_count": null,
   "id": "74efb514",
   "metadata": {},
   "outputs": [],
   "source": [
    "## Formating & Parsing Date & Time : \n",
    "A) **strptime()** : Parsing Date & Time to \"Specific Format\"   \n",
    "\n",
    "B) **strftime()** : Formating Date & Time to \"Readable Format\"   "
   ]
  },
  {
   "cell_type": "code",
   "execution_count": null,
   "id": "8b934daa",
   "metadata": {},
   "outputs": [],
   "source": [
    "A) \n",
    "\n",
    "B) strftime(): \n",
    "@ strftime(\"format\")\n",
    ">>> datetime.strftime(\"%a : %d-%B-%Y\")"
   ]
  },
  {
   "cell_type": "code",
   "execution_count": null,
   "id": "0e97b856",
   "metadata": {},
   "outputs": [],
   "source": [
    "# Calendar :\n",
    "- Handles Operations Related to Calendar\n",
    "\n",
    "***Note:-***\n",
    "- Follows \" European Convention\"\n",
    "- First day is \" Monday\" & Last day is \" Sunday\" "
   ]
  },
  {
   "cell_type": "code",
   "execution_count": null,
   "id": "b860725d",
   "metadata": {},
   "outputs": [],
   "source": [
    "## Show Calendar of Given Month :\n",
    "@ calendar.month(theyear,themonth,w=0,l=0) : Return Month calendar string (multi-line)\n",
    "\n",
    "import calendar \n",
    "\n",
    "yy=2017\n",
    "mm=11\n",
    "    \n",
    "print(calendar.month(yy,mm))\n",
    "calendar.month()\n"
   ]
  },
  {
   "cell_type": "code",
   "execution_count": null,
   "id": "073d4345",
   "metadata": {},
   "outputs": [],
   "source": [
    "## Show Calendar of Given Year :\n",
    "@ calendar.calendar(theyear,w=2,l=1,c=6,m=3) : Returns year calendar as multi-line string\n",
    "\n",
    "import calendar\n",
    "print(calendar.calendar(2018,2,1,6))\n"
   ]
  },
  {
   "cell_type": "code",
   "execution_count": null,
   "id": "099d9596",
   "metadata": {},
   "outputs": [],
   "source": [
    "\n",
    "calendar.Calendar()"
   ]
  },
  {
   "cell_type": "code",
   "execution_count": null,
   "id": "2f90598f",
   "metadata": {},
   "outputs": [],
   "source": []
  },
  {
   "cell_type": "code",
   "execution_count": null,
   "id": "8cc19951",
   "metadata": {},
   "outputs": [],
   "source": []
  },
  {
   "cell_type": "code",
   "execution_count": null,
   "id": "acf0fdac",
   "metadata": {},
   "outputs": [],
   "source": []
  },
  {
   "cell_type": "code",
   "execution_count": null,
   "id": "eeaf518a",
   "metadata": {},
   "outputs": [],
   "source": [
    "## Handling Date & Time: "
   ]
  },
  {
   "cell_type": "code",
   "execution_count": null,
   "id": "b491c9db",
   "metadata": {},
   "outputs": [],
   "source": [
    "#@ timedelta(days=0,seconds=0,microseconds=0,milliseconds=0,minutes=0,hours=0,weeks=0)\n",
    "import datetime\n",
    "pd.Timedelta()\n",
    "pd.TimedeltaIndex()\n",
    "pd.Timestamp()\n",
    "\n",
    "## Convert 'Date-Time String' to 'datetime' :\n",
    "\n",
    "# While Importing Data:\n",
    ">>> import datetime as dt\n",
    ">>> date_parser=lambda x:dt.datetime.strptime(x,\"%Y-%m-%d %I-%p\")   # For Formating\n",
    ">>> d=pd.read_csv(r\"A:\\Python_projects\\datasets\\time_data.csv\",parse_dates=[\"Date\"],date_parser=date_parser)   # parse_dates=[\"Date\"] :parse 'date' col to 'datetime64'\n",
    "\n",
    "# Using to_datetime() :\n",
    ">>> d[\"Date\"]=pd.to_datetime(d[\"Date\"],format=\"%Y-%m-%d %I-%p\") \n",
    "\n",
    "\n",
    "\n",
    ".day_name()\n"
   ]
  },
  {
   "cell_type": "code",
   "execution_count": null,
   "id": "88d7a472",
   "metadata": {},
   "outputs": [],
   "source": [
    "d=pd.read_csv(r\"A:\\Python_projects\\datasets\\time_data.csv\")\n",
    "d[\"Date\"]=pd.to_datetime(d[\"Date\"],format=\"%Y-%m-%d %I-%p\") \n",
    "\n",
    "d[\"day\"]=d[\"Date\"].dt.day_name()   # Accessing as \"Day\"\n",
    "\n",
    "d[\"Date\"].min()  # Earliest Date\n",
    "d[\"Date\"].max()  # Latest Date \n",
    "\n",
    "d[\"Date\"].max()-d[\"Date\"].min()  # Duration | difference betn date \n",
    "\n",
    "#d.head()\n",
    "15:00"
   ]
  },
  {
   "cell_type": "code",
   "execution_count": null,
   "id": "023b83a8",
   "metadata": {},
   "outputs": [],
   "source": [
    "import numpy as np\n",
    "import pandas as pd\n",
    "\n",
    "date_strings = np.array(['03-04-2005 11:35 PM',\n",
    " '23-05-2010 12:01 AM',\n",
    "'04-09-2009 09:09 PM'])\n",
    "\n"
   ]
  },
  {
   "cell_type": "code",
   "execution_count": null,
   "id": "2df3923c",
   "metadata": {},
   "outputs": [],
   "source": [
    "\n",
    "## Using pd.to_datetime()\n",
    "a=pd.to_datetime(date_strings,format='%d-%m-%Y %I:%M %p') # '%d-%m-%Y %I:%M %p'\n",
    "# produce DatetimeIndex()\n",
    "\n",
    "b=[pd.to_datetime(date, format='%d-%m-%Y %I:%M %p') for date in date_strings]\n",
    "# produce Timestamp()\n",
    "\n",
    "\n",
    "# Select observations between two datetimes\n",
    "dataframe.loc['2002-1-1 01:00:00':'2002-1-1 04:00:00']"
   ]
  },
  {
   "cell_type": "code",
   "execution_count": null,
   "id": "77e5a731",
   "metadata": {},
   "outputs": [],
   "source": [
    "## Handling Time Zone:\n",
    "\n",
    "# Set time zone # Localize tz-naive index of a Series or DataFrame to target time zone\n",
    "a.tz_localize('Europe/London')\n",
    "\n",
    "\n",
    "# Change time zone(used to 'localized data')   # Convert tz-aware axis to target time zone\n",
    "#a.tz_convert('Africa/Abidjan')\n",
    "\n",
    "### \n",
    "from pytz import all_timezones  # Best for representing time-zone \n",
    "all_timezones"
   ]
  },
  {
   "cell_type": "code",
   "execution_count": null,
   "id": "8adf686c",
   "metadata": {},
   "outputs": [],
   "source": []
  },
  {
   "cell_type": "code",
   "execution_count": null,
   "id": "fcf72551",
   "metadata": {},
   "outputs": [],
   "source": []
  },
  {
   "cell_type": "code",
   "execution_count": null,
   "id": "fd7add17",
   "metadata": {},
   "outputs": [],
   "source": []
  },
  {
   "cell_type": "code",
   "execution_count": null,
   "id": "7baf89fd",
   "metadata": {},
   "outputs": [],
   "source": []
  },
  {
   "cell_type": "code",
   "execution_count": null,
   "id": "61d114b5",
   "metadata": {},
   "outputs": [],
   "source": []
  },
  {
   "cell_type": "code",
   "execution_count": null,
   "id": "4abe3d77",
   "metadata": {},
   "outputs": [],
   "source": []
  },
  {
   "cell_type": "code",
   "execution_count": null,
   "id": "a1678d57",
   "metadata": {},
   "outputs": [],
   "source": []
  },
  {
   "cell_type": "code",
   "execution_count": null,
   "id": "0da0fb9e",
   "metadata": {},
   "outputs": [],
   "source": []
  },
  {
   "cell_type": "code",
   "execution_count": null,
   "id": "ee2a7bec",
   "metadata": {},
   "outputs": [],
   "source": []
  },
  {
   "cell_type": "code",
   "execution_count": null,
   "id": "36c23210",
   "metadata": {},
   "outputs": [],
   "source": []
  },
  {
   "cell_type": "code",
   "execution_count": null,
   "id": "9be71dbd",
   "metadata": {},
   "outputs": [],
   "source": []
  },
  {
   "cell_type": "code",
   "execution_count": null,
   "id": "ca3fa70e",
   "metadata": {},
   "outputs": [],
   "source": []
  },
  {
   "cell_type": "code",
   "execution_count": null,
   "id": "d042351d",
   "metadata": {},
   "outputs": [],
   "source": []
  },
  {
   "cell_type": "code",
   "execution_count": null,
   "id": "51a628e9",
   "metadata": {},
   "outputs": [],
   "source": []
  },
  {
   "cell_type": "code",
   "execution_count": null,
   "id": "34a4832c",
   "metadata": {},
   "outputs": [],
   "source": []
  }
 ],
 "metadata": {
  "kernelspec": {
   "display_name": "Python 3",
   "language": "python",
   "name": "python3"
  },
  "language_info": {
   "codemirror_mode": {
    "name": "ipython",
    "version": 3
   },
   "file_extension": ".py",
   "mimetype": "text/x-python",
   "name": "python",
   "nbconvert_exporter": "python",
   "pygments_lexer": "ipython3",
   "version": "3.8.8"
  },
  "toc": {
   "base_numbering": 1,
   "nav_menu": {},
   "number_sections": true,
   "sideBar": true,
   "skip_h1_title": false,
   "title_cell": "Table of Contents",
   "title_sidebar": "Contents",
   "toc_cell": false,
   "toc_position": {},
   "toc_section_display": true,
   "toc_window_display": false
  },
  "varInspector": {
   "cols": {
    "lenName": 16,
    "lenType": 16,
    "lenVar": 40
   },
   "kernels_config": {
    "python": {
     "delete_cmd_postfix": "",
     "delete_cmd_prefix": "del ",
     "library": "var_list.py",
     "varRefreshCmd": "print(var_dic_list())"
    },
    "r": {
     "delete_cmd_postfix": ") ",
     "delete_cmd_prefix": "rm(",
     "library": "var_list.r",
     "varRefreshCmd": "cat(var_dic_list()) "
    }
   },
   "types_to_exclude": [
    "module",
    "function",
    "builtin_function_or_method",
    "instance",
    "_Feature"
   ],
   "window_display": false
  }
 },
 "nbformat": 4,
 "nbformat_minor": 5
}
